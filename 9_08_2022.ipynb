{
  "nbformat": 4,
  "nbformat_minor": 0,
  "metadata": {
    "colab": {
      "name": "9/08/2022",
      "provenance": [],
      "collapsed_sections": []
    },
    "kernelspec": {
      "name": "python3",
      "display_name": "Python 3"
    },
    "language_info": {
      "name": "python"
    }
  },
  "cells": [
    {
      "cell_type": "code",
      "execution_count": null,
      "metadata": {
        "id": "qRaruSaZLPWj"
      },
      "outputs": [],
      "source": [
        ""
      ]
    },
    {
      "cell_type": "markdown",
      "source": [
        "#Clase 2\n",
        "##Estructuras de Selccion \n",
        "1. estructura simple si (if)\n",
        "2. estructura si (if/else)\n",
        "3. estructuras si múltiples (if/elif/else)\n"
      ],
      "metadata": {
        "id": "FfuqDjPWL6qZ"
      }
    },
    {
      "cell_type": "markdown",
      "source": [
        "##Estructura Simple"
      ],
      "metadata": {
        "id": "laM6EulKMxaw"
      }
    },
    {
      "cell_type": "code",
      "source": [
        "x=int(input(\" ingresar un numero\"))\n",
        "if x>=0:\n",
        "  print(x, \"es un numero positivo :)\")"
      ],
      "metadata": {
        "colab": {
          "base_uri": "https://localhost:8080/"
        },
        "id": "8ooSjlu9M2er",
        "outputId": "da9cde50-614a-4945-8319-abc2f9ad20fe"
      },
      "execution_count": null,
      "outputs": [
        {
          "output_type": "stream",
          "name": "stdout",
          "text": [
            " ingresar un numero 5\n",
            "5 es un numero positivo :)\n"
          ]
        }
      ]
    },
    {
      "cell_type": "markdown",
      "source": [
        "##Estructura Si/Sino\n"
      ],
      "metadata": {
        "id": "URi3QvrxOcMH"
      }
    },
    {
      "cell_type": "code",
      "source": [
        "x=int(input(\" ingresar un numero\"))\n",
        "\n",
        "if x>=0:\n",
        "  print(x, \"es un numero positivo :)\")\n",
        "else:\n",
        "   print(x, \"es un numero negativo :(\")"
      ],
      "metadata": {
        "colab": {
          "base_uri": "https://localhost:8080/"
        },
        "id": "F9-zeBZwOgtX",
        "outputId": "f5af4ffc-2003-462b-885f-3a7ea4fbf9be"
      },
      "execution_count": null,
      "outputs": [
        {
          "output_type": "stream",
          "name": "stdout",
          "text": [
            " ingresar un numero -7\n",
            "-7 es un numero negativo :(\n"
          ]
        }
      ]
    },
    {
      "cell_type": "markdown",
      "source": [
        "##EStructura Si Multiple (If/Elif/Else)"
      ],
      "metadata": {
        "id": "AtL-o856Q_Oi"
      }
    },
    {
      "cell_type": "code",
      "source": [
        "x=int(input(\" ingresar un numero\"))\n",
        "\n",
        "if x>0:\n",
        "  print(x, \"es un numero positivo :)\")\n",
        "\n",
        "elif x==0:\n",
        "  print( x, \" es cero\")\n",
        "\n",
        "else:\n",
        "   print(x, \"es un numero negativo :( \")"
      ],
      "metadata": {
        "colab": {
          "base_uri": "https://localhost:8080/"
        },
        "id": "B9aovu1fRFhK",
        "outputId": "01ec5c18-3f26-46d9-fff0-94cc6ddd0d14"
      },
      "execution_count": null,
      "outputs": [
        {
          "output_type": "stream",
          "name": "stdout",
          "text": [
            " ingresar un numero 0\n",
            "0  es cero\n"
          ]
        }
      ]
    }
  ]
}