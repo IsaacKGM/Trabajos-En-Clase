{
  "nbformat": 4,
  "nbformat_minor": 0,
  "metadata": {
    "colab": {
      "name": "trabajo en clase",
      "provenance": [],
      "collapsed_sections": []
    },
    "kernelspec": {
      "name": "python3",
      "display_name": "Python 3"
    },
    "language_info": {
      "name": "python"
    }
  },
  "cells": [
    {
      "cell_type": "code",
      "execution_count": null,
      "metadata": {
        "id": "9C7MUz9SlLgi"
      },
      "outputs": [],
      "source": [
        ""
      ]
    },
    {
      "cell_type": "markdown",
      "source": [
        "## 1. Division De Numero entero y su tipo de Resultado\n"
      ],
      "metadata": {
        "id": "o8c5po53lNFc"
      }
    },
    {
      "cell_type": "code",
      "source": [
        "x= int(input(\"ingrese un numero entero que sera el dividendo de la division\"))\n",
        "y= int(input(\" escriba un segundo numero entero que sera el divisor \"))\n",
        "\n",
        "if y==0:\n",
        "  print(\" no se puede dividir por 0 ingresa otro numero mayor a 0\")\n",
        "  y=int(input())\n",
        "\n",
        "division=(x/y)\n",
        "modulo=(x%y)\n",
        "\n",
        "if modulo ==00:\n",
        "  print(\"la division es exacta. el resultado es=\" ,division, \"y su residuo es\" ,modulo)\n",
        "else:\n",
        "  print(\"la division no es exacta. el resultado es=\" ,division, \"y su residuo es\" ,modulo)"
      ],
      "metadata": {
        "id": "Asv7SYzXlVj7"
      },
      "execution_count": null,
      "outputs": []
    },
    {
      "cell_type": "markdown",
      "source": [
        "## 2. Multiplos"
      ],
      "metadata": {
        "id": "F25jbJOFo6XI"
      }
    },
    {
      "cell_type": "code",
      "source": [
        "x= int(input(\"ingrese el primer numero\"))\n",
        "y= int(input(\" ingresa el segundo numero\"))\n",
        "\n",
        "division=(x/y)\n",
        "modulo=(x%y)\n",
        "\n",
        "if modulo==0:\n",
        "  print(\"el numero\",x,\"es multiplo del numero \" ,y, \"el modulo es \",modulo,)\n",
        "\n",
        "\n",
        "else:\n",
        "  print(\"los numeros no son multiplos \")"
      ],
      "metadata": {
        "id": "W_wCFf57o8X4"
      },
      "execution_count": null,
      "outputs": []
    },
    {
      "cell_type": "markdown",
      "source": [
        "## 3. Edades de menor a Mayor de tres hermanos"
      ],
      "metadata": {
        "id": "SICTbJktsStE"
      }
    },
    {
      "cell_type": "code",
      "source": [
        "x= int(input(\"ingresa la edad de uno de los hermanos \"))\n",
        "y= int(input(\" ingresa el valor de otro \"))\n",
        "z= int(input(\" ingresa el valor de otro \"))\n",
        "\n",
        "\n"
      ],
      "metadata": {
        "id": "zU0JBnjRsadE"
      },
      "execution_count": null,
      "outputs": []
    },
    {
      "cell_type": "markdown",
      "source": [
        "## 6. Cuatro Notas"
      ],
      "metadata": {
        "id": "YhuKU0dvwmFb"
      }
    },
    {
      "cell_type": "code",
      "source": [
        "print(\"ingresa tus cuatro notas de 0 a 50\")\n",
        "y= int(input())\n",
        "z= int(input())\n",
        "x= int(input())\n",
        "w= int(input())\n",
        "\n",
        "promedio=((y+z+x+w)/(4))\n",
        "\n",
        "print(\"tu promedio es\" ,promedio,)\n",
        "\n",
        "if promedio>45:\n",
        "  print(\"esta eximido del ultimo examen \")\n",
        "else:\n",
        "  if promedio>=35:\n",
        "    print(\"debes presentar el examen \")\n",
        "  else:\n",
        "    if promedio>=30:\n",
        "      print(\"debes presentar examen mas un trabajo\")\n",
        "    else:\n",
        "      if promedio>=20:\n",
        "        print(\"debe presentar una habilitacion\")\n",
        "      else:\n",
        "        print(\"perdiste la materia\")"
      ],
      "metadata": {
        "id": "-5h-ZnI5wv4D"
      },
      "execution_count": null,
      "outputs": []
    },
    {
      "cell_type": "markdown",
      "source": [
        "## 7. Fecha DE Nacimiento"
      ],
      "metadata": {
        "id": "WVzQalA6zHXz"
      }
    },
    {
      "cell_type": "code",
      "source": [
        "print(\"ingresa tu fecha de nacimiento \")\n",
        "dia_nacimiento= int(input(\"dia\"))\n",
        "mes_nacimiento= int(input(\"mes\"))\n",
        "año_nacimiento= int(input(\"año\"))\n",
        "\n",
        "dia_actual=11\n",
        "mes_actual=8\n",
        "año_actual=2022\n",
        "\n",
        "años=(año_actual - año_nacimiento)\n",
        "\n",
        "if mes_actual>mes_nacimiento:\n",
        "  años=años-1\n",
        "else:  mes_nacimiento=  mes_actual\n",
        "\n",
        "  if dia_nacimiento==dia_actual:\n",
        "    print(\"estas cumpliendo años\")\n",
        "  \n",
        "  print(\"usted tiene \",años,\"años\")\n",
        " \n",
        "\n"
      ],
      "metadata": {
        "id": "qGAJQSdBzWlQ"
      },
      "execution_count": null,
      "outputs": []
    },
    {
      "cell_type": "markdown",
      "source": [
        "## 8. Numero Bisiesto"
      ],
      "metadata": {
        "id": "35RQaDIczbAa"
      }
    },
    {
      "cell_type": "code",
      "source": [
        "print(\"ingresa el numero\")\n",
        "y= int(input())\n",
        "\n",
        "modulo()"
      ],
      "metadata": {
        "id": "bDqnj7PVzkls"
      },
      "execution_count": null,
      "outputs": []
    }
  ]
}